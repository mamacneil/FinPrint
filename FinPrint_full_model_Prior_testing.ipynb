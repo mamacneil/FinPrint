{
 "cells": [
  {
   "cell_type": "markdown",
   "metadata": {},
   "source": [
    "# Prior testing for MacNeil *et al.* 2020 *Global status and conservation potential of reef sharks*"
   ]
  },
  {
   "cell_type": "code",
   "execution_count": 1,
   "metadata": {},
   "outputs": [],
   "source": [
    "# Import packages\n",
    "%matplotlib inline\n",
    "\n",
    "import datetime\n",
    "from itertools import product\n",
    "import logging\n",
    "import pickle\n",
    "import pymc3 as pm\n",
    "from matplotlib import pyplot as plt\n",
    "from matplotlib.offsetbox import AnchoredText\n",
    "from matplotlib.ticker import FuncFormatter, StrMethodFormatter\n",
    "import numpy as np\n",
    "import pandas as pd\n",
    "import scipy as sp\n",
    "import seaborn as sns\n",
    "import os\n",
    "from math import isnan\n",
    "from sklearn.preprocessing import LabelEncoder\n",
    "from theano import tensor as tt\n",
    "from theano import shared\n",
    "from collections import Counter\n",
    "import cmocean as co\n",
    "import datetime as dt\n",
    "import matplotlib as mp\n",
    "import arviz as az"
   ]
  },
  {
   "cell_type": "code",
   "execution_count": 2,
   "metadata": {},
   "outputs": [],
   "source": [
    "# Helper function\n",
    "def indexall(L):\n",
    "    poo = []\n",
    "    for p in L:\n",
    "        if not p in poo:\n",
    "            poo.append(p)\n",
    "    Ix = np.array([poo.index(p) for p in L])\n",
    "    return poo,Ix\n",
    "\n",
    "def subindexall(short,long):\n",
    "    poo = []\n",
    "    out = []\n",
    "    for s,l in zip(short,long):\n",
    "        if not l in poo:\n",
    "            poo.append(l)\n",
    "            out.append(s)\n",
    "    return indexall(out)\n",
    "\n",
    "match = lambda a, b: [ b.index(x) if x in b else None for x in a ]\n",
    "grep = lambda s, l: np.array([i for i in l if s in i])\n",
    "\n",
    "# Function to standardize covariates\n",
    "def stdize(x):\n",
    "    return (x-np.mean(x))/(np.std(x)*2)\n",
    "\n",
    "def invlogit(x):\n",
    "    return np.exp(x)/(1+np.exp(x))\n",
    "\n",
    "def gelplot(pj,vector,posy,csize=40,lwd50=7,lwd95=1):\n",
    "    if np.percentile(vector,2.5)<0 and 0<np.percentile(vector,97.5):\n",
    "        pj.plot(np.median(vector),posy,'.',markersize=csize,c='grey')\n",
    "        pj.plot((np.percentile(vector,2.5),np.percentile(vector,97.5)),(posy,posy),linewidth=lwd95,c='grey')\n",
    "        pj.plot((np.percentile(vector,25),np.percentile(vector,75)),(posy,posy),linewidth=lwd50,c='grey')\n",
    "    else:\n",
    "        pj.plot(np.median(vector),posy,'.',markersize=csize,c='black')\n",
    "        pj.plot((np.percentile(vector,2.5),np.percentile(vector,97.5)),(posy,posy),linewidth=lwd95,c='black')\n",
    "        pj.plot((np.percentile(vector,25),np.percentile(vector,75)),(posy,posy),linewidth=lwd50,c='black')\n",
    "        \n",
    "    if np.percentile(vector,25)<0 and 0<np.percentile(vector,75):\n",
    "        pj.plot(np.median(vector),posy,'.',markersize=csize,c='white')"
   ]
  },
  {
   "cell_type": "markdown",
   "metadata": {},
   "source": [
    "# Data"
   ]
  },
  {
   "cell_type": "markdown",
   "metadata": {},
   "source": [
    "### Import FinPrint data"
   ]
  },
  {
   "cell_type": "code",
   "execution_count": 3,
   "metadata": {
    "scrolled": true
   },
   "outputs": [
    {
     "name": "stderr",
     "output_type": "stream",
     "text": [
      "/Users/aaronmacneil/anaconda3/lib/python3.7/site-packages/IPython/core/interactiveshell.py:3058: DtypeWarning: Columns (23,26,57,58) have mixed types. Specify dtype option on import or set low_memory=False.\n",
      "  interactivity=interactivity, compiler=compiler, result=result)\n"
     ]
    },
    {
     "data": {
      "text/plain": [
       "array(['region_name', 'region_id', 'location_name', 'location_code',\n",
       "       'location_id', 'site_name', 'site_code', 'site_id', 'reef_name',\n",
       "       'reef_type', 'reef_code', 'reef_id', 'trip_year', 'trip_code',\n",
       "       'set_id', 'set_code', 'set_date', 'set_latitude', 'set_longitude',\n",
       "       'maxn', 'functional_group', 'depth', 'drop_time', 'haul_time',\n",
       "       'bait', 'bait_oiled', 'current_flow_estimated',\n",
       "       'current_flow_instrumented', 'visibility', 'field_of_view',\n",
       "       'substrate_relief_sd', 'substrate_relief_mean',\n",
       "       'equipment_frame_type', 'equipment_camera',\n",
       "       'equipment_stereo_camera', 'equipment_camera_height',\n",
       "       'equipment_arm_length', 'ascidians', 'bleached_corals', 'bryozoa',\n",
       "       'consolidated', 'crinoids', 'halimeda', 'hard_coral', 'hydrocoral',\n",
       "       'hydroids', 'invertebrate_complex', 'macroalgae', 'mangrove',\n",
       "       'seagrass', 'soft_coral', 'sponge', 'true_anemones',\n",
       "       'unconsolidated', 'zoanthids', 'video_length_watched',\n",
       "       'video_filename', 'video_source', 'video_filepath',\n",
       "       'splendor_image_url', 'total_assignments', 'reviewed_assignments',\n",
       "       'has_complete_master', 'protection_status', 'mpa_name', 'mpa_area',\n",
       "       'mpa_year_founded', 'mpa_isolation', 'mpa_compliance', 'site_type',\n",
       "       'bait_family', 'PI', 'Remote', 'Shark_Protection_Status',\n",
       "       'Shark_fishing_restrictions', 'Shark_gears', 'Datasheet_Source',\n",
       "       'set_productivity_2017ave', 'local_population_2010',\n",
       "       'local_population_2015',\n",
       "       'population_proporationaldifference_2010.15', 'drop_hr', 'LatLon',\n",
       "       'Grav_NC', 'Grav_Total', 'Grav_Cities', 'Grav_NP'], dtype=object)"
      ]
     },
     "execution_count": 3,
     "metadata": {},
     "output_type": "execute_result"
    }
   ],
   "source": [
    "fpdata = pd.read_csv('FinPrint_Set_Data.csv')\n",
    "fpdata.columns.values"
   ]
  },
  {
   "cell_type": "code",
   "execution_count": 4,
   "metadata": {},
   "outputs": [
    {
     "data": {
      "text/plain": [
       "array([nan], dtype=object)"
      ]
     },
     "execution_count": 4,
     "metadata": {},
     "output_type": "execute_result"
    }
   ],
   "source": [
    "fpdata.Shark_Protection_Status[fpdata.Shark_Protection_Status.isnull()].unique()"
   ]
  },
  {
   "cell_type": "code",
   "execution_count": 5,
   "metadata": {},
   "outputs": [
    {
     "data": {
      "text/plain": [
       "array(['I', 'B', 'A', 'V', 'C', 'O'], dtype=object)"
      ]
     },
     "execution_count": 5,
     "metadata": {},
     "output_type": "execute_result"
    }
   ],
   "source": [
    "fpdata.site_type.unique()"
   ]
  },
  {
   "cell_type": "code",
   "execution_count": 6,
   "metadata": {},
   "outputs": [
    {
     "data": {
      "text/plain": [
       "(171810, 87)"
      ]
     },
     "execution_count": 6,
     "metadata": {},
     "output_type": "execute_result"
    }
   ],
   "source": [
    "fpdata.shape"
   ]
  },
  {
   "cell_type": "code",
   "execution_count": 7,
   "metadata": {},
   "outputs": [
    {
     "data": {
      "text/plain": [
       "array(['Species; Gear; Entrants; Temporal', 'Area; Gear; Species',\n",
       "       'Species; Bag; Entrants; Gear; Area', 'Area', 'Area; Entrants',\n",
       "       'Gear', nan, 'Area; Bag; Entrants', 'Gear; Bag; Area', 'Bag; Area',\n",
       "       'Entrants; Temporal; Gear; Species', 'Entrants; Area',\n",
       "       'Temporal; Entrants; Species', 'Gear; Species',\n",
       "       'Area; Entrants; Species', 'Entrants',\n",
       "       'Temporal; Size; Bag; Entrants; Species', 'Species',\n",
       "       'Size; Bag; Entrants; Species', 'Species; Gear', 'Species; Bag',\n",
       "       'Gear; Bag; Species', 'Gear; Species; Bag',\n",
       "       'Size; Bag; Entrants; Species; Gear', 'Size', 'Entrants; Gear'],\n",
       "      dtype=object)"
      ]
     },
     "execution_count": 7,
     "metadata": {},
     "output_type": "execute_result"
    }
   ],
   "source": [
    "fpdata.Shark_fishing_restrictions.unique()"
   ]
  },
  {
   "cell_type": "code",
   "execution_count": 8,
   "metadata": {},
   "outputs": [
    {
     "data": {
      "text/plain": [
       "array(['FP_location_id', 'FP_location_name', 'CoastLength',\n",
       "       'FP_location_code', 'EPI', 'Ehealth', 'EcoVitality',\n",
       "       'EPI_location_name', 'TradeHub', 'GINI_location_name', 'GINI_year',\n",
       "       'GINI', 'HDI_location_name', 'HDI_year', 'HDI',\n",
       "       'WGI_location_name', 'Voice_Accountability_year',\n",
       "       'Voice_Accountability', 'Government_Effectiveness_year',\n",
       "       'Government_Effectiveness', 'Regulatory_Quality_year',\n",
       "       'Regulatory_Quality', 'Rule_of_Law_year', 'Rule_of_Law',\n",
       "       'Control_Corruption_year', 'Control_Corruption',\n",
       "       'GDP_location_name', 'GDP_year', 'GDP_per_capita_USD',\n",
       "       'Population_location_name', 'Population_year', 'Population',\n",
       "       'SAUP_EEZ_name', 'Catch_year', 'Total_catch_tonnes',\n",
       "       'Total_catch_reported_only', 'Total_catch_value',\n",
       "       'Reef_catch_tonnes', 'Reef_catch_value', 'Tuna_catch_tonnes',\n",
       "       'Tuna_catch_value', 'Reefshark_catch_tonnes',\n",
       "       'Reefshark_catch_value', 'Shark_catch_tonnes', 'Shark_catch_value',\n",
       "       'Bechedemer_catch_tonnes', 'Bechedemer_catch_value',\n",
       "       'colin_SAUP_reef_sharks_catch_2016-2014', 'tax_haven',\n",
       "       'Shark_Sanctuary'], dtype=object)"
      ]
     },
     "execution_count": 8,
     "metadata": {},
     "output_type": "execute_result"
    }
   ],
   "source": [
    "# Import location-scale data\n",
    "ldata = pd.read_csv('Location_Covariates.csv')\n",
    "ldata.columns.values"
   ]
  },
  {
   "cell_type": "code",
   "execution_count": 9,
   "metadata": {},
   "outputs": [],
   "source": [
    "critter = 'sharks'"
   ]
  },
  {
   "cell_type": "code",
   "execution_count": 10,
   "metadata": {},
   "outputs": [
    {
     "data": {
      "text/plain": [
       "array(['apex', 'benthic_rover', 'guitar', 'pelagic', 'reef_meso',\n",
       "       'large_ray', 'small_ray', 'coastal_rover', 'nocturnal_invader'],\n",
       "      dtype=object)"
      ]
     },
     "execution_count": 10,
     "metadata": {},
     "output_type": "execute_result"
    }
   ],
   "source": [
    "fpdata['functional_group'].unique()"
   ]
  },
  {
   "cell_type": "code",
   "execution_count": 11,
   "metadata": {},
   "outputs": [],
   "source": [
    "# Grab only sharks\n",
    "poo = fpdata[fpdata['functional_group'].isin(['reef_meso','apex','coastal_rover','benthic_rover', 'nocturnal_invader'])]"
   ]
  },
  {
   "cell_type": "code",
   "execution_count": 12,
   "metadata": {},
   "outputs": [
    {
     "data": {
      "text/plain": [
       "array(['apex', 'benthic_rover', 'reef_meso', 'coastal_rover',\n",
       "       'nocturnal_invader'], dtype=object)"
      ]
     },
     "execution_count": 12,
     "metadata": {},
     "output_type": "execute_result"
    }
   ],
   "source": [
    "poo.functional_group.unique()"
   ]
  },
  {
   "cell_type": "code",
   "execution_count": 13,
   "metadata": {},
   "outputs": [],
   "source": [
    "# Sum maxn's given set id's\n",
    "tmp = poo.groupby(['set_id'], as_index=False)['maxn'].sum()\n",
    "tmp.columns = ['set_id','MaxN_shark']"
   ]
  },
  {
   "cell_type": "code",
   "execution_count": 14,
   "metadata": {},
   "outputs": [
    {
     "data": {
      "text/plain": [
       "array(['set_id', 'MaxN_shark'], dtype=object)"
      ]
     },
     "execution_count": 14,
     "metadata": {},
     "output_type": "execute_result"
    }
   ],
   "source": [
    "tmp.columns.values"
   ]
  },
  {
   "cell_type": "code",
   "execution_count": 15,
   "metadata": {},
   "outputs": [],
   "source": [
    "xdata = fpdata.merge(tmp, on=['set_id']).drop_duplicates(subset=['set_id'])"
   ]
  },
  {
   "cell_type": "code",
   "execution_count": 16,
   "metadata": {},
   "outputs": [
    {
     "data": {
      "text/plain": [
       "2075    9\n",
       "Name: MaxN_shark, dtype: int64"
      ]
     },
     "execution_count": 16,
     "metadata": {},
     "output_type": "execute_result"
    }
   ],
   "source": [
    "tmp.loc[tmp.set_id==2635].MaxN_shark"
   ]
  },
  {
   "cell_type": "code",
   "execution_count": 17,
   "metadata": {},
   "outputs": [
    {
     "data": {
      "text/plain": [
       "(19090, 88)"
      ]
     },
     "execution_count": 17,
     "metadata": {},
     "output_type": "execute_result"
    }
   ],
   "source": [
    "np.shape(xdata)"
   ]
  },
  {
   "cell_type": "code",
   "execution_count": 18,
   "metadata": {},
   "outputs": [
    {
     "name": "stderr",
     "output_type": "stream",
     "text": [
      "/Users/aaronmacneil/anaconda3/lib/python3.7/site-packages/ipykernel_launcher.py:4: SettingWithCopyWarning: \n",
      "A value is trying to be set on a copy of a slice from a DataFrame\n",
      "\n",
      "See the caveats in the documentation: http://pandas.pydata.org/pandas-docs/stable/user_guide/indexing.html#returning-a-view-versus-a-copy\n",
      "  after removing the cwd from sys.path.\n",
      "/Users/aaronmacneil/anaconda3/lib/python3.7/site-packages/ipykernel_launcher.py:5: SettingWithCopyWarning: \n",
      "A value is trying to be set on a copy of a slice from a DataFrame\n",
      "\n",
      "See the caveats in the documentation: http://pandas.pydata.org/pandas-docs/stable/user_guide/indexing.html#returning-a-view-versus-a-copy\n",
      "  \"\"\"\n",
      "/Users/aaronmacneil/anaconda3/lib/python3.7/site-packages/ipykernel_launcher.py:6: SettingWithCopyWarning: \n",
      "A value is trying to be set on a copy of a slice from a DataFrame\n",
      "\n",
      "See the caveats in the documentation: http://pandas.pydata.org/pandas-docs/stable/user_guide/indexing.html#returning-a-view-versus-a-copy\n",
      "  \n",
      "/Users/aaronmacneil/anaconda3/lib/python3.7/site-packages/ipykernel_launcher.py:7: SettingWithCopyWarning: \n",
      "A value is trying to be set on a copy of a slice from a DataFrame\n",
      "\n",
      "See the caveats in the documentation: http://pandas.pydata.org/pandas-docs/stable/user_guide/indexing.html#returning-a-view-versus-a-copy\n",
      "  import sys\n",
      "/Users/aaronmacneil/anaconda3/lib/python3.7/site-packages/ipykernel_launcher.py:8: SettingWithCopyWarning: \n",
      "A value is trying to be set on a copy of a slice from a DataFrame\n",
      "\n",
      "See the caveats in the documentation: http://pandas.pydata.org/pandas-docs/stable/user_guide/indexing.html#returning-a-view-versus-a-copy\n",
      "  \n",
      "/Users/aaronmacneil/anaconda3/lib/python3.7/site-packages/ipykernel_launcher.py:9: SettingWithCopyWarning: \n",
      "A value is trying to be set on a copy of a slice from a DataFrame\n",
      "\n",
      "See the caveats in the documentation: http://pandas.pydata.org/pandas-docs/stable/user_guide/indexing.html#returning-a-view-versus-a-copy\n",
      "  if __name__ == '__main__':\n",
      "/Users/aaronmacneil/anaconda3/lib/python3.7/site-packages/ipykernel_launcher.py:10: SettingWithCopyWarning: \n",
      "A value is trying to be set on a copy of a slice from a DataFrame\n",
      "\n",
      "See the caveats in the documentation: http://pandas.pydata.org/pandas-docs/stable/user_guide/indexing.html#returning-a-view-versus-a-copy\n",
      "  # Remove the CWD from sys.path while we load stuff.\n",
      "/Users/aaronmacneil/anaconda3/lib/python3.7/site-packages/ipykernel_launcher.py:11: SettingWithCopyWarning: \n",
      "A value is trying to be set on a copy of a slice from a DataFrame\n",
      "\n",
      "See the caveats in the documentation: http://pandas.pydata.org/pandas-docs/stable/user_guide/indexing.html#returning-a-view-versus-a-copy\n",
      "  # This is added back by InteractiveShellApp.init_path()\n",
      "/Users/aaronmacneil/anaconda3/lib/python3.7/site-packages/ipykernel_launcher.py:13: SettingWithCopyWarning: \n",
      "A value is trying to be set on a copy of a slice from a DataFrame\n",
      "\n",
      "See the caveats in the documentation: http://pandas.pydata.org/pandas-docs/stable/user_guide/indexing.html#returning-a-view-versus-a-copy\n",
      "  del sys.path[0]\n",
      "/Users/aaronmacneil/anaconda3/lib/python3.7/site-packages/ipykernel_launcher.py:14: SettingWithCopyWarning: \n",
      "A value is trying to be set on a copy of a slice from a DataFrame\n",
      "\n",
      "See the caveats in the documentation: http://pandas.pydata.org/pandas-docs/stable/user_guide/indexing.html#returning-a-view-versus-a-copy\n",
      "  \n",
      "/Users/aaronmacneil/anaconda3/lib/python3.7/site-packages/ipykernel_launcher.py:15: SettingWithCopyWarning: \n",
      "A value is trying to be set on a copy of a slice from a DataFrame\n",
      "\n",
      "See the caveats in the documentation: http://pandas.pydata.org/pandas-docs/stable/user_guide/indexing.html#returning-a-view-versus-a-copy\n",
      "  from ipykernel import kernelapp as app\n",
      "/Users/aaronmacneil/anaconda3/lib/python3.7/site-packages/ipykernel_launcher.py:16: SettingWithCopyWarning: \n",
      "A value is trying to be set on a copy of a slice from a DataFrame\n",
      "\n",
      "See the caveats in the documentation: http://pandas.pydata.org/pandas-docs/stable/user_guide/indexing.html#returning-a-view-versus-a-copy\n",
      "  app.launch_new_instance()\n",
      "/Users/aaronmacneil/anaconda3/lib/python3.7/site-packages/ipykernel_launcher.py:18: SettingWithCopyWarning: \n",
      "A value is trying to be set on a copy of a slice from a DataFrame\n",
      "\n",
      "See the caveats in the documentation: http://pandas.pydata.org/pandas-docs/stable/user_guide/indexing.html#returning-a-view-versus-a-copy\n",
      "/Users/aaronmacneil/anaconda3/lib/python3.7/site-packages/ipykernel_launcher.py:19: SettingWithCopyWarning: \n",
      "A value is trying to be set on a copy of a slice from a DataFrame\n",
      "\n",
      "See the caveats in the documentation: http://pandas.pydata.org/pandas-docs/stable/user_guide/indexing.html#returning-a-view-versus-a-copy\n",
      "/Users/aaronmacneil/anaconda3/lib/python3.7/site-packages/ipykernel_launcher.py:20: SettingWithCopyWarning: \n",
      "A value is trying to be set on a copy of a slice from a DataFrame\n",
      "\n",
      "See the caveats in the documentation: http://pandas.pydata.org/pandas-docs/stable/user_guide/indexing.html#returning-a-view-versus-a-copy\n",
      "/Users/aaronmacneil/anaconda3/lib/python3.7/site-packages/ipykernel_launcher.py:21: SettingWithCopyWarning: \n",
      "A value is trying to be set on a copy of a slice from a DataFrame\n",
      "\n",
      "See the caveats in the documentation: http://pandas.pydata.org/pandas-docs/stable/user_guide/indexing.html#returning-a-view-versus-a-copy\n",
      "/Users/aaronmacneil/anaconda3/lib/python3.7/site-packages/ipykernel_launcher.py:22: SettingWithCopyWarning: \n",
      "A value is trying to be set on a copy of a slice from a DataFrame\n",
      "\n",
      "See the caveats in the documentation: http://pandas.pydata.org/pandas-docs/stable/user_guide/indexing.html#returning-a-view-versus-a-copy\n",
      "/Users/aaronmacneil/anaconda3/lib/python3.7/site-packages/ipykernel_launcher.py:23: SettingWithCopyWarning: \n",
      "A value is trying to be set on a copy of a slice from a DataFrame\n",
      "\n",
      "See the caveats in the documentation: http://pandas.pydata.org/pandas-docs/stable/user_guide/indexing.html#returning-a-view-versus-a-copy\n",
      "/Users/aaronmacneil/anaconda3/lib/python3.7/site-packages/ipykernel_launcher.py:24: SettingWithCopyWarning: \n",
      "A value is trying to be set on a copy of a slice from a DataFrame\n",
      "\n",
      "See the caveats in the documentation: http://pandas.pydata.org/pandas-docs/stable/user_guide/indexing.html#returning-a-view-versus-a-copy\n"
     ]
    }
   ],
   "source": [
    "# Break out Australia IOT and Dutch Antilles Leeward\n",
    "\n",
    "xdata.location_name[xdata.site_name=='Ashmore'] = 'Australia IOT'\n",
    "xdata.location_name[xdata.site_name=='Rowley Shoals'] = 'Australia IOT'\n",
    "xdata.location_name[xdata.site_name=='Scott Reef'] = 'Australia IOT'\n",
    "xdata.location_name[xdata.site_name=='Houtman Abrolhos'] = 'Australia IOT'\n",
    "xdata.location_name[xdata.site_name=='Cocos-Keeling'] = 'Australia IOT'\n",
    "xdata.location_name[xdata.site_name=='Christmas Island'] = 'Australia IOT'\n",
    "xdata.location_name[xdata.site_name=='Pedro Bank'] = 'Jamaica PB'\n",
    "xdata.location_name[xdata.site_name=='Cayo Serranilla'] = 'Columbia SF'\n",
    "xdata.location_name[xdata.site_name=='Old Providence Island'] = 'Columbia SF'\n",
    "\n",
    "xdata.location_name[xdata.location_name=='Saudi Arabia'] = 'Saudi Arabia-Red Sea'\n",
    "xdata.location_name[xdata.location_name=='British West Indies '] = 'Montserrat'\n",
    "ldata.FP_location_name[ldata.FP_location_name=='Saudi Arabia'] = 'Saudi Arabia-Red Sea'\n",
    "ldata.FP_location_name[ldata.FP_location_name=='British West Indies '] = 'Montserrat' \n",
    "\n",
    "xdata.location_name[xdata.site_name=='Aruba'] = 'Dutch Antilles Leeward'\n",
    "xdata.location_name[xdata.site_name=='Bonaire'] = 'Dutch Antilles Leeward'\n",
    "xdata.location_name[xdata.site_name=='Curacao'] = 'Dutch Antilles Leeward'\n",
    "xdata.location_name[xdata.site_name=='Saba'] = 'Dutch Antilles Windward'\n",
    "xdata.location_name[xdata.site_name=='Saba Bank'] = 'Dutch Antilles Windward'\n",
    "xdata.location_name[xdata.site_name=='St Eustatius'] = 'Dutch Antilles Windward'\n",
    "xdata.location_name[xdata.site_name=='St Maarten'] = 'Dutch Antilles Windward'\n"
   ]
  },
  {
   "cell_type": "code",
   "execution_count": 19,
   "metadata": {},
   "outputs": [
    {
     "data": {
      "text/plain": [
       "array(['USA-Western Atlantic', 'Bahamas', 'Australia-Pacific',\n",
       "       'Australia IOT', 'Maldives', 'Malaysia', 'Solomon Islands',\n",
       "       'Indonesia', 'Palau', 'American Samoa', 'New Caledonia', 'Belize',\n",
       "       'Jamaica', 'Trinidad and Tobago', 'Vanuatu', 'British West Indies',\n",
       "       'Fiji', 'Colombia', 'Australia-Indian Ocean', 'South Africa',\n",
       "       'Mozambique', 'Niue', 'Japan', 'Seychelles', 'Taiwan', 'Kiribati',\n",
       "       'Qatar', 'Federated States of Micronesia', 'Vietnam',\n",
       "       'Philippines', 'French Polynesia', 'Samoa', 'Turks and Caicos',\n",
       "       'Antigua and Barbuda', 'Barbados', 'Brazil', 'Columbia SF',\n",
       "       'Jamaica PB', 'Mayotte', 'USA-Pacific', 'Sri Lanka', 'Tanzania',\n",
       "       'Papua New Guinea', 'Tonga', 'New Zealand', 'India', 'Kenya',\n",
       "       'Dutch Antilles Windward', 'Madagascar', 'Saudi Arabia-Red Sea',\n",
       "       'Guam', 'Cook Islands', 'Dominican Republic', 'French West Indies',\n",
       "       'Dutch Antilles Leeward', 'Cuba', 'Bermuda', 'Puerto Rico'],\n",
       "      dtype=object)"
      ]
     },
     "execution_count": 19,
     "metadata": {},
     "output_type": "execute_result"
    }
   ],
   "source": [
    "xdata.location_name.unique()"
   ]
  },
  {
   "cell_type": "code",
   "execution_count": 20,
   "metadata": {},
   "outputs": [
    {
     "data": {
      "text/plain": [
       "(19090, 88)"
      ]
     },
     "execution_count": 20,
     "metadata": {},
     "output_type": "execute_result"
    }
   ],
   "source": [
    "np.shape(xdata)"
   ]
  },
  {
   "cell_type": "code",
   "execution_count": 21,
   "metadata": {},
   "outputs": [],
   "source": [
    "# Cut rows with no visibility values\n",
    "xdata = xdata[np.isfinite(xdata['visibility'])]\n",
    "# Cut rows with no hard coral values\n",
    "xdata = xdata[np.isfinite(xdata['hard_coral'])]\n",
    "# Cut rows with no rugosity values\n",
    "xdata = xdata[np.isfinite(xdata['substrate_relief_mean'])]"
   ]
  },
  {
   "cell_type": "code",
   "execution_count": 22,
   "metadata": {},
   "outputs": [
    {
     "data": {
      "text/plain": [
       "(15176, 88)"
      ]
     },
     "execution_count": 22,
     "metadata": {},
     "output_type": "execute_result"
    }
   ],
   "source": [
    "np.shape(xdata)"
   ]
  },
  {
   "cell_type": "code",
   "execution_count": 23,
   "metadata": {},
   "outputs": [
    {
     "data": {
      "text/plain": [
       "0.00032946758039009705"
      ]
     },
     "execution_count": 23,
     "metadata": {},
     "output_type": "execute_result"
    }
   ],
   "source": [
    "1-15171/15176"
   ]
  },
  {
   "cell_type": "code",
   "execution_count": 24,
   "metadata": {},
   "outputs": [
    {
     "data": {
      "text/plain": [
       "(15165, 88)"
      ]
     },
     "execution_count": 24,
     "metadata": {},
     "output_type": "execute_result"
    }
   ],
   "source": [
    "# Remove high leverage observations\n",
    "xdata = xdata[xdata.set_id!=6783]\n",
    "xdata = xdata[xdata.set_id!=29122]\n",
    "xdata = xdata[xdata.set_id!=33986]\n",
    "xdata = xdata[xdata.set_id!=20819]\n",
    "xdata = xdata[xdata.set_id!=34989]\n",
    "xdata = xdata[xdata.set_id!=22974]\n",
    "xdata = xdata[xdata.set_id!=10335]\n",
    "xdata = xdata[xdata.set_id!=24488]\n",
    "xdata = xdata[xdata.set_id!=8863]\n",
    "xdata = xdata[xdata.set_id!=7255]\n",
    "xdata = xdata[xdata.set_id!=32874]\n",
    "np.shape(xdata)"
   ]
  },
  {
   "cell_type": "code",
   "execution_count": 25,
   "metadata": {},
   "outputs": [
    {
     "data": {
      "text/plain": [
       "array(['region_name', 'region_id', 'location_name', 'location_code',\n",
       "       'location_id', 'site_name', 'site_code', 'site_id', 'reef_name',\n",
       "       'reef_type', 'reef_code', 'reef_id', 'trip_year', 'trip_code',\n",
       "       'set_id', 'set_code', 'set_date', 'set_latitude', 'set_longitude',\n",
       "       'maxn', 'functional_group', 'depth', 'drop_time', 'haul_time',\n",
       "       'bait', 'bait_oiled', 'current_flow_estimated',\n",
       "       'current_flow_instrumented', 'visibility', 'field_of_view',\n",
       "       'substrate_relief_sd', 'substrate_relief_mean',\n",
       "       'equipment_frame_type', 'equipment_camera',\n",
       "       'equipment_stereo_camera', 'equipment_camera_height',\n",
       "       'equipment_arm_length', 'ascidians', 'bleached_corals', 'bryozoa',\n",
       "       'consolidated', 'crinoids', 'halimeda', 'hard_coral', 'hydrocoral',\n",
       "       'hydroids', 'invertebrate_complex', 'macroalgae', 'mangrove',\n",
       "       'seagrass', 'soft_coral', 'sponge', 'true_anemones',\n",
       "       'unconsolidated', 'zoanthids', 'video_length_watched',\n",
       "       'video_filename', 'video_source', 'video_filepath',\n",
       "       'splendor_image_url', 'total_assignments', 'reviewed_assignments',\n",
       "       'has_complete_master', 'protection_status', 'mpa_name', 'mpa_area',\n",
       "       'mpa_year_founded', 'mpa_isolation', 'mpa_compliance', 'site_type',\n",
       "       'bait_family', 'PI', 'Remote', 'Shark_Protection_Status',\n",
       "       'Shark_fishing_restrictions', 'Shark_gears', 'Datasheet_Source',\n",
       "       'set_productivity_2017ave', 'local_population_2010',\n",
       "       'local_population_2015',\n",
       "       'population_proporationaldifference_2010.15', 'drop_hr', 'LatLon',\n",
       "       'Grav_NC', 'Grav_Total', 'Grav_Cities', 'Grav_NP', 'MaxN_shark'],\n",
       "      dtype=object)"
      ]
     },
     "execution_count": 25,
     "metadata": {},
     "output_type": "execute_result"
    }
   ],
   "source": [
    "xdata.columns.values"
   ]
  },
  {
   "cell_type": "code",
   "execution_count": 26,
   "metadata": {},
   "outputs": [
    {
     "data": {
      "text/plain": [
       "371"
      ]
     },
     "execution_count": 26,
     "metadata": {},
     "output_type": "execute_result"
    }
   ],
   "source": [
    "len(xdata.reef_id.unique())"
   ]
  },
  {
   "cell_type": "code",
   "execution_count": 27,
   "metadata": {},
   "outputs": [],
   "source": [
    "xdata.to_csv('FPstudyFinal.csv')"
   ]
  },
  {
   "cell_type": "markdown",
   "metadata": {},
   "source": [
    "## Models"
   ]
  },
  {
   "cell_type": "code",
   "execution_count": 28,
   "metadata": {},
   "outputs": [],
   "source": [
    "#Responses\n",
    "MaxN = xdata.MaxN_shark.values\n",
    "OCC = (MaxN>0)*1"
   ]
  },
  {
   "cell_type": "code",
   "execution_count": 29,
   "metadata": {},
   "outputs": [
    {
     "data": {
      "text/plain": [
       "(5719, 0.3771183646554566, 15165)"
      ]
     },
     "execution_count": 29,
     "metadata": {},
     "output_type": "execute_result"
    }
   ],
   "source": [
    "sum(OCC),sum(OCC)/len(MaxN),len(OCC)"
   ]
  },
  {
   "cell_type": "markdown",
   "metadata": {},
   "source": [
    "Code up iterator for analysis"
   ]
  },
  {
   "cell_type": "code",
   "execution_count": 30,
   "metadata": {},
   "outputs": [],
   "source": [
    "# Hierarchical levels\n",
    "Reef,Ir = indexall(np.array(xdata.reef_id.values))\n",
    "nreefs = len(Reef)\n",
    "\n",
    "Site,Is = subindexall(xdata.site_name.values,xdata.reef_id.values)\n",
    "nsites = len(Site)\n",
    "\n",
    "LocationR,Ilr = subindexall(xdata.location_name.values,xdata.reef_id.values)\n",
    "\n",
    "LocationS,Ils = indexall(xdata.location_name.values)\n",
    "\n",
    "Location,Il = subindexall(xdata.location_name.values,xdata.site_name.values)\n",
    "nlocs = len(Location)\n",
    "\n",
    "Region,Ig = subindexall(xdata.region_name.values,xdata.location_name.values)\n",
    "nreg = len(Region)\n",
    "\n",
    "Lox,Ilx = indexall(xdata.site_name.values)"
   ]
  },
  {
   "cell_type": "code",
   "execution_count": 31,
   "metadata": {},
   "outputs": [],
   "source": [
    "# Lat/lon - national\n",
    "Lat = np.array([np.mean(xdata.set_latitude.values[xdata.location_name.values==L]) for L in Location])\n",
    "Lon = np.array([np.mean(xdata.set_longitude.values[xdata.location_name.values==L]) for L in Location])"
   ]
  },
  {
   "cell_type": "code",
   "execution_count": 32,
   "metadata": {},
   "outputs": [],
   "source": [
    "# Location key\n",
    "lkey = np.array([list(ldata.FP_location_name.values).index(l) for l in Location])\n",
    "# Site key\n",
    "skey = np.array([list(xdata.site_name.values).index(s) for s in Site])\n",
    "# Reef key\n",
    "rkey = np.array([list(xdata.reef_id.values).index(r) for r in Reef])"
   ]
  },
  {
   "cell_type": "code",
   "execution_count": 33,
   "metadata": {},
   "outputs": [
    {
     "data": {
      "text/plain": [
       "1.0"
      ]
     },
     "execution_count": 33,
     "metadata": {},
     "output_type": "execute_result"
    }
   ],
   "source": [
    "# Check uniqueness\n",
    "len(xdata.reef_id.unique())/len(xdata.reef_id.values[rkey])"
   ]
  },
  {
   "cell_type": "code",
   "execution_count": 34,
   "metadata": {},
   "outputs": [],
   "source": [
    "#\"\"\"\n",
    "# Function to standardize covariates\n",
    "def stdize(x):\n",
    "    return (x-np.mean(x))/(np.std(x)*2)"
   ]
  },
  {
   "cell_type": "code",
   "execution_count": 35,
   "metadata": {},
   "outputs": [
    {
     "data": {
      "text/plain": [
       "Index(['FP_location_id', 'FP_location_name', 'CoastLength', 'FP_location_code',\n",
       "       'EPI', 'Ehealth', 'EcoVitality', 'EPI_location_name', 'TradeHub',\n",
       "       'GINI_location_name', 'GINI_year', 'GINI', 'HDI_location_name',\n",
       "       'HDI_year', 'HDI', 'WGI_location_name', 'Voice_Accountability_year',\n",
       "       'Voice_Accountability', 'Government_Effectiveness_year',\n",
       "       'Government_Effectiveness', 'Regulatory_Quality_year',\n",
       "       'Regulatory_Quality', 'Rule_of_Law_year', 'Rule_of_Law',\n",
       "       'Control_Corruption_year', 'Control_Corruption', 'GDP_location_name',\n",
       "       'GDP_year', 'GDP_per_capita_USD', 'Population_location_name',\n",
       "       'Population_year', 'Population', 'SAUP_EEZ_name', 'Catch_year',\n",
       "       'Total_catch_tonnes', 'Total_catch_reported_only', 'Total_catch_value',\n",
       "       'Reef_catch_tonnes', 'Reef_catch_value', 'Tuna_catch_tonnes',\n",
       "       'Tuna_catch_value', 'Reefshark_catch_tonnes', 'Reefshark_catch_value',\n",
       "       'Shark_catch_tonnes', 'Shark_catch_value', 'Bechedemer_catch_tonnes',\n",
       "       'Bechedemer_catch_value', 'colin_SAUP_reef_sharks_catch_2016-2014',\n",
       "       'tax_haven', 'Shark_Sanctuary'],\n",
       "      dtype='object')"
      ]
     },
     "execution_count": 35,
     "metadata": {},
     "output_type": "execute_result"
    }
   ],
   "source": [
    "ldata.columns"
   ]
  },
  {
   "cell_type": "code",
   "execution_count": 36,
   "metadata": {},
   "outputs": [],
   "source": [
    "## Location-level covariates\n",
    "\n",
    "# Human development index\n",
    "HDI = ldata.HDI.values[lkey]\n",
    "\n",
    "# Voice and accountability\n",
    "VOICE = ldata.Voice_Accountability.values[lkey]\n",
    "\n",
    "# Population size\n",
    "POP = stdize(np.log(ldata.Population.values[lkey]))\n",
    "\n",
    "# Total catch\n",
    "CATCH = stdize(np.log(ldata.Reef_catch_tonnes.values[lkey]))\n",
    "\n",
    "# Shark catch\n",
    "SCAT = stdize(np.log(ldata.Shark_catch_tonnes.values[lkey]+1))\n",
    "\n",
    "# Beche de Mer\n",
    "BDM = stdize(np.log(ldata.Bechedemer_catch_tonnes.values[lkey]+1))\n",
    "\n",
    "# Tax haven\n",
    "TAX = ldata.tax_haven.values[lkey]\n",
    "\n",
    "# Shark sanctuary\n",
    "SSA = ldata.Shark_Sanctuary.values[lkey]\n",
    "\n",
    "# Coastline length\n",
    "CLN = stdize(ldata.CoastLength.values[lkey])"
   ]
  },
  {
   "cell_type": "code",
   "execution_count": 37,
   "metadata": {},
   "outputs": [],
   "source": [
    "# Site type\n",
    "STY,Isty = indexall(xdata.site_type.values[skey])\n",
    "nshabs = len(STY)"
   ]
  },
  {
   "cell_type": "markdown",
   "metadata": {},
   "source": [
    "#### Reef-level covariates"
   ]
  },
  {
   "cell_type": "code",
   "execution_count": 38,
   "metadata": {},
   "outputs": [],
   "source": [
    "# Temporary replacement of unknown protection status\n",
    "xdata['Shark_Protection_Status'] = xdata.Shark_Protection_Status.replace(np.nan, 'Unknown', regex=True)"
   ]
  },
  {
   "cell_type": "code",
   "execution_count": 39,
   "metadata": {},
   "outputs": [],
   "source": [
    "xdata['Shark_Protection_Status'] = xdata.Shark_Protection_Status.replace('Unknown', 'Closed',regex=True)"
   ]
  },
  {
   "cell_type": "code",
   "execution_count": 40,
   "metadata": {},
   "outputs": [
    {
     "name": "stderr",
     "output_type": "stream",
     "text": [
      "/Users/aaronmacneil/anaconda3/lib/python3.7/site-packages/ipykernel_launcher.py:42: UserWarning: Pandas doesn't allow columns to be created via a new attribute name - see https://pandas.pydata.org/pandas-docs/stable/indexing.html#attribute-access\n"
     ]
    }
   ],
   "source": [
    "# Reef habitat type\n",
    "RTY,Irty = indexall(xdata.reef_type.values[rkey])\n",
    "nrty = len(RTY)\n",
    "\n",
    "# Shark protection status\n",
    "PRO = ['Open', 'Restricted', 'Closed']\n",
    "Ipro = np.array([PRO.index(x) for x in xdata.Shark_Protection_Status.values[rkey]])\n",
    "npro = len(PRO)\n",
    "\n",
    "# Flags for mutual exclusions\n",
    "CLO = (Ipro==PRO.index('Closed'))*1\n",
    "noCLO = 1-(Ipro==PRO.index('Closed'))*1\n",
    "RES = ((Ipro==PRO.index('Restricted'))*(1-(Ipro==PRO.index('Closed'))*1))*1\n",
    "\n",
    "# MPA size - standardize only places that have area\n",
    "MPS = xdata.mpa_area.fillna(-999).values[rkey]\n",
    "tmp = MPS!=-999\n",
    "#MPS[tmp] = stdize(np.log(MPS[tmp]+1))\n",
    "MPS[tmp] = np.log(MPS[tmp]+1)/max(np.log(MPS[tmp]+1))\n",
    "MPS[MPS==-999] = 0\n",
    "\n",
    "# MPA age - standardize only places that have year\n",
    "MPG = (xdata.mpa_year_founded.fillna(-999+2015).values[rkey]-2015)*-1\n",
    "tmp = MPG!=999\n",
    "#MPG[tmp] = stdize(MPG[tmp])\n",
    "MPG[tmp] = MPG[tmp]/max(MPG[tmp])\n",
    "MPG[MPG==999] = 0\n",
    "\n",
    "# High compliance\n",
    "HIG = (xdata.mpa_compliance.values[rkey]=='high')*1*CLO\n",
    "\n",
    "# Remote\n",
    "REM = (xdata.Remote.values[rkey]=='Yes')*1\n",
    "\n",
    "# Gravity NP\n",
    "GRAV = stdize(np.log(xdata.Grav_NP.values[rkey]+1))\n",
    "\n",
    "# Gravity NC\n",
    "GRAV_NC = stdize(np.log(xdata.Grav_NC.values[rkey]+1))\n",
    "\n",
    "# Shark gear\n",
    "xdata.Sharkgear = xdata.Shark_gears.fillna('None')\n",
    "# Gillnet\n",
    "GNET = np.array([('Gillnet' in g)*1 for g in xdata.Shark_gears.values.astype(str)])[rkey]\n",
    "# Drumline\n",
    "DRUM = np.array([('Drumline' in g)*1 for g in xdata.Shark_gears.values.astype(str)])[rkey]\n",
    "# Hook and line\n",
    "HLIN = np.array([('Hook & Line' in g)*1 for g in xdata.Shark_gears.values.astype(str)])[rkey]\n",
    "# Longline\n",
    "LLIN = np.array([('Longline' in g)*1 for g in xdata.Shark_gears.values.astype(str)])[rkey]\n",
    "# Spear\n",
    "SPE = np.array([('Spear' in g)*1 for g in xdata.Shark_gears.values.astype(str)])[rkey]\n",
    "# Trawl\n",
    "TRA = np.array([('Trawl' in g)*1 for g in xdata.Shark_gears.values.astype(str)])[rkey]\n",
    "# Blast\n",
    "BLA = np.array([('Blast' in g)*1 for g in xdata.Shark_gears.values.astype(str)])[rkey]\n",
    "# Gillnets or longlines\n",
    "GILL = ((GNET+LLIN)>0)*1\n",
    "\n",
    "# Bag\n",
    "BAG = np.array([('Bag' in g)*1 for g in xdata.Shark_fishing_restrictions.values.astype(str)])[rkey]\n",
    "\n",
    "# Temporal\n",
    "TEM = np.array([('Temporal' in g)*1 for g in xdata.Shark_fishing_restrictions.values.astype(str)])[rkey]\n",
    "\n",
    "# Species\n",
    "SPP = np.array([('Species' in g)*1 for g in xdata.Shark_fishing_restrictions.values.astype(str)])[rkey]\n",
    "\n",
    "\n",
    "# Local population growth\n",
    "xdata['proportional_difference'] = xdata['population_proporationaldifference_2010.15'].fillna(0)\n",
    "POPG = stdize(xdata.proportional_difference.values[rkey])"
   ]
  },
  {
   "cell_type": "code",
   "execution_count": 41,
   "metadata": {},
   "outputs": [],
   "source": [
    "# Depth\n",
    "DEPTH = stdize(xdata.depth.values)\n",
    "\n",
    "# Bait\n",
    "tmp = xdata.bait_family.values\n",
    "tmp[tmp=='Palinuridae'] = 'Other'\n",
    "tmp[tmp=='Siluriformes'] = 'Other'\n",
    "tmp[tmp=='Lutjanidae'] = 'Other'\n",
    "tmp[tmp=='Siluriformes'] = 'Other'\n",
    "tmp[tmp=='Carangidae'] = 'Other'\n",
    "tmp[tmp=='Belonidae'] = 'Other'\n",
    "tmp[tmp=='Coryphaenidae'] = 'Other'\n",
    "tmp[tmp=='Scomberesocidae'] = 'Other'\n",
    "tmp[tmp=='Osmeridae'] = 'Other'\n",
    "\n",
    "BAIT,Ib = indexall(tmp)\n",
    "nbait = len(BAIT)\n",
    "\n",
    "# Visibility\n",
    "VIS = stdize(xdata.visibility.values)\n",
    "\n",
    "# Productivity\n",
    "tmp = np.median(xdata.set_productivity_2017ave.values[xdata.set_productivity_2017ave.values>0])\n",
    "xdata.set_productivity_2017ave = xdata.set_productivity_2017ave.fillna(tmp)\n",
    "PROD = stdize(xdata.set_productivity_2017ave.values-np.mean(xdata.set_productivity_2017ave.values))\n",
    "\n",
    "# Hard coral\n",
    "HC = stdize(xdata.hard_coral.values)\n",
    "\n",
    "# Rugosity\n",
    "RUG = stdize(xdata.substrate_relief_mean.values)\n",
    "\n",
    "# Algae\n",
    "tmp = xdata.macroalgae.fillna(0)\n",
    "ALG = stdize(tmp.values)\n",
    "\n",
    "# Noon distance in fractional hours\n",
    "DAY = np.abs(stdize(np.array([(dt.datetime.strptime(x,'%H:%M:%S')-dt.datetime.strptime('12:00:00','%H:%M:%S')).total_seconds()/60**2 for x in xdata.drop_time.values])))\n",
    "\n",
    "# Month\n",
    "MON = np.array([dt.datetime.strptime(x,'%Y-%m-%d').month for x in xdata.set_date.values])\n",
    "\n",
    "# Hemisphere\n",
    "HEM = (xdata.set_latitude.values<0)*1\n",
    "\n",
    "# Seasonality\n",
    "iSEA = [['Winter','Winter','Shoulder','Shoulder','Summer','Summer','Summer','Summer','Shoulder','Shoulder','Winter','Winter'],['Summer','Summer','Shoulder','Shoulder','Winter','Winter','Winter','Winter','Shoulder','Shoulder','Summer','Summer']]\n",
    "SEA,Ic = indexall(np.array([iSEA[h][m-1] for h,m in zip(HEM,MON)]))\n",
    "nsea = len(SEA)\n",
    "\n",
    "# Number of observations\n",
    "nobs = len(ALG)"
   ]
  },
  {
   "cell_type": "markdown",
   "metadata": {},
   "source": [
    "Proportion of zeros"
   ]
  },
  {
   "cell_type": "code",
   "execution_count": 42,
   "metadata": {},
   "outputs": [
    {
     "data": {
      "text/plain": [
       "0.3771183646554566"
      ]
     },
     "execution_count": 42,
     "metadata": {},
     "output_type": "execute_result"
    }
   ],
   "source": [
    "sum(OCC)/len(OCC)"
   ]
  },
  {
   "cell_type": "code",
   "execution_count": 43,
   "metadata": {},
   "outputs": [
    {
     "data": {
      "image/png": "[encoded data removed]",
      "text/plain": [
       "<Figure size 432x288 with 1 Axes>"
      ]
     },
     "metadata": {
      "needs_background": "light"
     },
     "output_type": "display_data"
    }
   ],
   "source": [
    "plt.hist(MaxN,bins=100)\n",
    "plt.xlim(0,10);"
   ]
  },
  {
   "cell_type": "code",
   "execution_count": 44,
   "metadata": {},
   "outputs": [
    {
     "data": {
      "text/plain": [
       "58"
      ]
     },
     "execution_count": 44,
     "metadata": {},
     "output_type": "execute_result"
    }
   ],
   "source": [
    "nlocs"
   ]
  },
  {
   "cell_type": "code",
   "execution_count": 45,
   "metadata": {},
   "outputs": [],
   "source": [
    "varset = ['Global_rate',\n",
    " 'CoastLength',\n",
    " 'Sanctuary',\n",
    " 'Closed',\n",
    " 'MPA_size',\n",
    " 'High_compliance',\n",
    " 'Gillnet_longline',\n",
    " 'Drumline',\n",
    " 'HookLine',\n",
    " 'Catch',\n",
    " 'Temporal',\n",
    " 'Species',\n",
    " 'Remote',\n",
    " 'Gravity_NP',\n",
    " 'Gravity_NC',\n",
    " 'Depth',\n",
    " 'Visibililty',\n",
    " 'Hard_coral',\n",
    " 'Rugosity',\n",
    " 'TimeODay',\n",
    " 'Global_zeros',\n",
    " 'HDI',\n",
    " 'VOICE',\n",
    " 'POP']\n",
    "nvar = len(varset)"
   ]
  },
  {
   "cell_type": "markdown",
   "metadata": {},
   "source": [
    "### Full model"
   ]
  },
  {
   "cell_type": "code",
   "execution_count": 46,
   "metadata": {},
   "outputs": [],
   "source": [
    "nsamps = 2500\n",
    "prior_list = np.arange(1,9)\n",
    "npl = len(prior_list)\n",
    "\n",
    "# Store traces\n",
    "trace_matrix = np.zeros(shape=(npl,nvar,nsamps*4))\n"
   ]
  },
  {
   "cell_type": "code",
   "execution_count": 47,
   "metadata": {
    "scrolled": false
   },
   "outputs": [
    {
     "name": "stderr",
     "output_type": "stream",
     "text": [
      "Auto-assigning NUTS sampler...\n",
      "Initializing NUTS using jitter+adapt_diag...\n",
      "Multiprocess sampling (4 chains in 4 jobs)\n",
      "NUTS: [alpha, η0_z, POP, VOICE, HDI, σ0_η_z, pi0_t, σ0_υ_z, Global_zeros, Seasonality, Bait_type, TimeODay, Rugosity, Hard_coral, Visibililty, Depth, κ0, σ0_κ, Gravity_NC, Gravity_NP, Remote, Species, Temporal, Catch, HookLine, Drumline, Gillnet_longline, High_compliance, MPA_size, Closed, Reef_type, η0, σ0_η, CoastLength, Sanctuary, pi_t, σ0_υ, Global_rate]\n",
      "Sampling 4 chains: 100%|██████████| 12000/12000 [1:04:42<00:00,  3.09draws/s]\n",
      "There were 12 divergences after tuning. Increase `target_accept` or reparameterize.\n",
      "There were 14 divergences after tuning. Increase `target_accept` or reparameterize.\n",
      "There were 8 divergences after tuning. Increase `target_accept` or reparameterize.\n",
      "There were 4 divergences after tuning. Increase `target_accept` or reparameterize.\n",
      "The acceptance probability does not match the target. It is 0.9023866226289557, but should be close to 0.8. Try to increase the number of tuning steps.\n",
      "The gelman-rubin statistic is larger than 1.05 for some parameters. This indicates slight problems during sampling.\n",
      "The estimated number of effective samples is smaller than 200 for some parameters.\n",
      "Auto-assigning NUTS sampler...\n",
      "Initializing NUTS using jitter+adapt_diag...\n",
      "Multiprocess sampling (4 chains in 4 jobs)\n",
      "NUTS: [alpha, η0_z, POP, VOICE, HDI, σ0_η_z, pi0_t, σ0_υ_z, Global_zeros, Seasonality, Bait_type, TimeODay, Rugosity, Hard_coral, Visibililty, Depth, κ0, σ0_κ, Gravity_NC, Gravity_NP, Remote, Species, Temporal, Catch, HookLine, Drumline, Gillnet_longline, High_compliance, MPA_size, Closed, Reef_type, η0, σ0_η, CoastLength, Sanctuary, pi_t, σ0_υ, Global_rate]\n",
      "Sampling 4 chains: 100%|██████████| 12000/12000 [1:04:56<00:00,  3.08draws/s]\n",
      "There were 3 divergences after tuning. Increase `target_accept` or reparameterize.\n",
      "There were 2 divergences after tuning. Increase `target_accept` or reparameterize.\n",
      "There was 1 divergence after tuning. Increase `target_accept` or reparameterize.\n",
      "The number of effective samples is smaller than 10% for some parameters.\n",
      "Auto-assigning NUTS sampler...\n",
      "Initializing NUTS using jitter+adapt_diag...\n",
      "Multiprocess sampling (4 chains in 4 jobs)\n",
      "NUTS: [alpha, η0_z, POP, VOICE, HDI, σ0_η_z, pi0_t, σ0_υ_z, Global_zeros, Seasonality, Bait_type, TimeODay, Rugosity, Hard_coral, Visibililty, Depth, κ0, σ0_κ, Gravity_NC, Gravity_NP, Remote, Species, Temporal, Catch, HookLine, Drumline, Gillnet_longline, High_compliance, MPA_size, Closed, Reef_type, η0, σ0_η, CoastLength, Sanctuary, pi_t, σ0_υ, Global_rate]\n",
      "Sampling 4 chains: 100%|██████████| 12000/12000 [1:00:28<00:00,  3.31draws/s]\n",
      "There was 1 divergence after tuning. Increase `target_accept` or reparameterize.\n",
      "The acceptance probability does not match the target. It is 0.8831569735586869, but should be close to 0.8. Try to increase the number of tuning steps.\n",
      "The gelman-rubin statistic is larger than 1.05 for some parameters. This indicates slight problems during sampling.\n",
      "The estimated number of effective samples is smaller than 200 for some parameters.\n",
      "Auto-assigning NUTS sampler...\n",
      "Initializing NUTS using jitter+adapt_diag...\n",
      "Multiprocess sampling (4 chains in 4 jobs)\n",
      "NUTS: [alpha, η0_z, POP, VOICE, HDI, σ0_η_z, pi0_t, σ0_υ_z, Global_zeros, Seasonality, Bait_type, TimeODay, Rugosity, Hard_coral, Visibililty, Depth, κ0, σ0_κ, Gravity_NC, Gravity_NP, Remote, Species, Temporal, Catch, HookLine, Drumline, Gillnet_longline, High_compliance, MPA_size, Closed, Reef_type, η0, σ0_η, CoastLength, Sanctuary, pi_t, σ0_υ, Global_rate]\n",
      "Sampling 4 chains: 100%|██████████| 12000/12000 [1:04:25<00:00,  3.10draws/s]\n",
      "There were 3 divergences after tuning. Increase `target_accept` or reparameterize.\n",
      "There were 2 divergences after tuning. Increase `target_accept` or reparameterize.\n",
      "There were 93 divergences after tuning. Increase `target_accept` or reparameterize.\n",
      "The estimated number of effective samples is smaller than 200 for some parameters.\n",
      "Auto-assigning NUTS sampler...\n",
      "Initializing NUTS using jitter+adapt_diag...\n",
      "Multiprocess sampling (4 chains in 4 jobs)\n",
      "NUTS: [alpha, η0_z, POP, VOICE, HDI, σ0_η_z, pi0_t, σ0_υ_z, Global_zeros, Seasonality, Bait_type, TimeODay, Rugosity, Hard_coral, Visibililty, Depth, κ0, σ0_κ, Gravity_NC, Gravity_NP, Remote, Species, Temporal, Catch, HookLine, Drumline, Gillnet_longline, High_compliance, MPA_size, Closed, Reef_type, η0, σ0_η, CoastLength, Sanctuary, pi_t, σ0_υ, Global_rate]\n",
      "Sampling 4 chains: 100%|██████████| 12000/12000 [47:50<00:00,  4.18draws/s] \n",
      "There were 2 divergences after tuning. Increase `target_accept` or reparameterize.\n",
      "There was 1 divergence after tuning. Increase `target_accept` or reparameterize.\n",
      "There were 3 divergences after tuning. Increase `target_accept` or reparameterize.\n",
      "There were 21 divergences after tuning. Increase `target_accept` or reparameterize.\n",
      "The estimated number of effective samples is smaller than 200 for some parameters.\n",
      "Auto-assigning NUTS sampler...\n",
      "Initializing NUTS using jitter+adapt_diag...\n",
      "Multiprocess sampling (4 chains in 4 jobs)\n",
      "NUTS: [alpha, η0_z, POP, VOICE, HDI, σ0_η_z, pi0_t, σ0_υ_z, Global_zeros, Seasonality, Bait_type, TimeODay, Rugosity, Hard_coral, Visibililty, Depth, κ0, σ0_κ, Gravity_NC, Gravity_NP, Remote, Species, Temporal, Catch, HookLine, Drumline, Gillnet_longline, High_compliance, MPA_size, Closed, Reef_type, η0, σ0_η, CoastLength, Sanctuary, pi_t, σ0_υ, Global_rate]\n",
      "Sampling 4 chains: 100%|██████████| 12000/12000 [48:26<00:00,  4.13draws/s] \n",
      "There was 1 divergence after tuning. Increase `target_accept` or reparameterize.\n",
      "There was 1 divergence after tuning. Increase `target_accept` or reparameterize.\n",
      "The acceptance probability does not match the target. It is 0.8930635340423426, but should be close to 0.8. Try to increase the number of tuning steps.\n",
      "There were 3 divergences after tuning. Increase `target_accept` or reparameterize.\n",
      "There were 3 divergences after tuning. Increase `target_accept` or reparameterize.\n",
      "The estimated number of effective samples is smaller than 200 for some parameters.\n",
      "Auto-assigning NUTS sampler...\n",
      "Initializing NUTS using jitter+adapt_diag...\n",
      "Multiprocess sampling (4 chains in 4 jobs)\n",
      "NUTS: [alpha, η0_z, POP, VOICE, HDI, σ0_η_z, pi0_t, σ0_υ_z, Global_zeros, Seasonality, Bait_type, TimeODay, Rugosity, Hard_coral, Visibililty, Depth, κ0, σ0_κ, Gravity_NC, Gravity_NP, Remote, Species, Temporal, Catch, HookLine, Drumline, Gillnet_longline, High_compliance, MPA_size, Closed, Reef_type, η0, σ0_η, CoastLength, Sanctuary, pi_t, σ0_υ, Global_rate]\n",
      "Sampling 4 chains: 100%|██████████| 12000/12000 [42:50<00:00,  4.67draws/s] \n",
      "There was 1 divergence after tuning. Increase `target_accept` or reparameterize.\n",
      "There were 24 divergences after tuning. Increase `target_accept` or reparameterize.\n",
      "There were 3 divergences after tuning. Increase `target_accept` or reparameterize.\n",
      "There was 1 divergence after tuning. Increase `target_accept` or reparameterize.\n",
      "The estimated number of effective samples is smaller than 200 for some parameters.\n",
      "Auto-assigning NUTS sampler...\n",
      "Initializing NUTS using jitter+adapt_diag...\n",
      "Multiprocess sampling (4 chains in 4 jobs)\n",
      "NUTS: [alpha, η0_z, POP, VOICE, HDI, σ0_η_z, pi0_t, σ0_υ_z, Global_zeros, Seasonality, Bait_type, TimeODay, Rugosity, Hard_coral, Visibililty, Depth, κ0, σ0_κ, Gravity_NC, Gravity_NP, Remote, Species, Temporal, Catch, HookLine, Drumline, Gillnet_longline, High_compliance, MPA_size, Closed, Reef_type, η0, σ0_η, CoastLength, Sanctuary, pi_t, σ0_υ, Global_rate]\n",
      "Sampling 4 chains: 100%|██████████| 12000/12000 [33:09<00:00,  6.03draws/s] \n",
      "There were 8 divergences after tuning. Increase `target_accept` or reparameterize.\n",
      "There were 3 divergences after tuning. Increase `target_accept` or reparameterize.\n",
      "There was 1 divergence after tuning. Increase `target_accept` or reparameterize.\n",
      "There was 1 divergence after tuning. Increase `target_accept` or reparameterize.\n",
      "The gelman-rubin statistic is larger than 1.05 for some parameters. This indicates slight problems during sampling.\n",
      "The estimated number of effective samples is smaller than 200 for some parameters.\n"
     ]
    }
   ],
   "source": [
    "for i in range(npl):\n",
    "\n",
    "    NPR = prior_list[i]\n",
    "    \n",
    "    with pm.Model() as ZINB_full:\n",
    "        # = = = = = = = = = = = COUNTS = = = = = = = = = = = = = = #\n",
    "        # Global count model\n",
    "        π0 = pm.Normal('Global_rate', 0, NPR)\n",
    "        σ0_υ = pm.Uniform('σ0_υ', 0, 10)\n",
    "        pi_tilde = pm.Normal('pi_t', 0, 1, shape=nreg)\n",
    "        υ0 = pm.Deterministic('Regional_rate', π0 + σ0_υ*pi_tilde)\n",
    "\n",
    "        # National count model\n",
    "        η2 = pm.Normal('Sanctuary', 0, NPR)\n",
    "        η3 = pm.Normal('CoastLength', 0, NPR)\n",
    "\n",
    "        η = υ0[Ig]+η2*SSA+η3*CLN\n",
    "        σ0_η = pm.Uniform('σ0_η', 0, 10)\n",
    "        η0 = pm.Normal('η0', η, σ0_η, shape=nlocs)\n",
    "\n",
    "        # Reef-level count model\n",
    "        κ1_ = pm.Normal('Reef_type', 0, NPR, shape=nrty-1)\n",
    "        κ1 = tt.set_subtensor(tt.zeros(shape=nrty)[1:], κ1_)\n",
    "\n",
    "        κ3 = pm.Normal('Closed', 0, NPR)\n",
    "        κ3a = pm.Normal('MPA_size', 0, NPR)\n",
    "        κ3b = pm.Normal('High_compliance', 0, NPR)\n",
    "\n",
    "        κ4 = pm.Normal('Gillnet_longline', 0, NPR)\n",
    "        κ5 = pm.Normal('Drumline', 0, NPR)\n",
    "        κ6 = pm.Normal('HookLine', 0, NPR)\n",
    "\n",
    "        κ7 = pm.Normal('Catch', 0, NPR)\n",
    "        κ7b = pm.Normal('Temporal', 0, NPR)\n",
    "        κ7c = pm.Normal('Species', 0, NPR)\n",
    "\n",
    "        κ8 = pm.Normal('Remote', 0, NPR)\n",
    "        κ9 = pm.Normal('Gravity_NP', 0, NPR)\n",
    "        κ10 = pm.Normal('Gravity_NC', 0, NPR)\n",
    "\n",
    "        # Reef model\n",
    "        κ = η0[Ilr]+κ1[Irty]+κ3*CLO+κ3a*MPS+κ3b*HIG+κ4*GILL+κ5*DRUM+κ6*HLIN+κ7*BAG+κ7b*TEM+κ7c*SPP+κ8*REM+κ9*GRAV+κ10*GRAV_NC\n",
    "\n",
    "        σ0_κ = pm.Uniform('σ0_κ',0 , 100)\n",
    "        κ0 = pm.Normal('κ0', κ, σ0_κ, shape=nreefs)\n",
    "\n",
    "        # = = = Observation model\n",
    "        ρ1 = pm.Normal('Depth', 0, NPR)\n",
    "\n",
    "        ρ4 = pm.Normal('Visibililty', 0, NPR)\n",
    "        ρ5 = pm.Normal('Hard_coral', 0, NPR)\n",
    "        ρ6 = pm.Normal('Rugosity', 0, NPR)\n",
    "        ρ7 = pm.Normal('TimeODay', 0, NPR)\n",
    "        ρ8_ = pm.Normal('Bait_type', 0, NPR, shape=nbait-1)\n",
    "        ρ8 = tt.set_subtensor(tt.zeros(shape=nbait)[1:], ρ8_)\n",
    "        ρ9_ = pm.Normal('Seasonality', 0, NPR, shape=nsea-1)\n",
    "        ρ9 = tt.set_subtensor(tt.zeros(shape=nsea)[1:], ρ9_)\n",
    "\n",
    "        μ_ = κ0[Ir]+ρ1*DEPTH+ρ4*VIS+ρ5*HC+ρ6*RUG+ρ7*DAY+ρ8[Ib]+ρ9[Ic]\n",
    "\n",
    "        μ = tt.exp(μ_)\n",
    "\n",
    "        # = = = = = = = = = = = ZEROS = = = = = = = = = = = = = = #\n",
    "        # Priors student_t(nu,0,s), with 3<nu<7\n",
    "        # Global zeros model\n",
    "        π0_z = pm.Cauchy('Global_zeros', 0, 10)\n",
    "        σ0_υ_z = pm.Exponential('σ0_υ_z', 1)\n",
    "        pi0_tilde = pm.Normal('pi0_t', 0, 1, shape=nreg)\n",
    "        υ0_z = pm.Deterministic('Regional_zeros', π0_z + σ0_υ_z*pi0_tilde)\n",
    "        σ0_η_z = pm.Exponential('σ0_η_z', 1)\n",
    "\n",
    "        # National zeros model\n",
    "        η1_z = pm.Cauchy('HDI', 0, min(max(NPR,3),7))\n",
    "        η2_z = pm.Cauchy('VOICE', 0, min(max(NPR,3),7))\n",
    "        η3_z = pm.Cauchy('POP', 0, min(max(NPR,3),7))\n",
    "        η_z = υ0_z[Ig]+η1_z*HDI+η2_z*VOICE+η3_z*POP\n",
    "        η0_z = pm.Normal('η0_z', η_z, σ0_η_z, shape=nlocs)\n",
    "\n",
    "        # Proportion of non-zeros\n",
    "        ψ = pm.invlogit(η0_z[Ils])\n",
    "\n",
    "        # = = = = = = = = = = = Likelihood = = = = = = = = = = = = = = #\n",
    "        α = pm.Gamma('alpha', 0.001, 0.001)\n",
    "        Yi = pm.ZeroInflatedNegativeBinomial('Yi', ψ, μ, α, observed=MaxN)\n",
    "\n",
    "        ZINB_full_trace = pm.sample(nsamps)\n",
    "        \n",
    "    for j in range(nvar):\n",
    "        trace_matrix[i][j] = ZINB_full_trace[varset[j]]\n"
   ]
  },
  {
   "cell_type": "markdown",
   "metadata": {},
   "source": [
    "## Prior comparison"
   ]
  },
  {
   "cell_type": "code",
   "execution_count": 48,
   "metadata": {},
   "outputs": [],
   "source": [
    "trace_matrix.dump(\"trace_matrixx.dat\")"
   ]
  },
  {
   "cell_type": "code",
   "execution_count": 49,
   "metadata": {},
   "outputs": [],
   "source": [
    "trace_matrix = np.load(\"trace_matrixx.dat\",allow_pickle=True)"
   ]
  },
  {
   "cell_type": "code",
   "execution_count": 50,
   "metadata": {},
   "outputs": [
    {
     "data": {
      "text/plain": [
       "24"
      ]
     },
     "execution_count": 50,
     "metadata": {},
     "output_type": "execute_result"
    }
   ],
   "source": [
    "nvar"
   ]
  },
  {
   "cell_type": "code",
   "execution_count": 56,
   "metadata": {},
   "outputs": [
    {
     "data": {
      "image/png": "[encoded data removed]",
      "text/plain": [
       "<Figure size 864x648 with 25 Axes>"
      ]
     },
     "metadata": {
      "needs_background": "light"
     },
     "output_type": "display_data"
    }
   ],
   "source": [
    "fig = plt.figure(figsize=(12,9))\n",
    "gs = mp.gridspec.GridSpec(5,5)\n",
    "ax_ = np.array([fig.add_subplot(gs[i,j]) for i in range(5) for j in range(5)]).reshape(1,25)[0]\n",
    "\n",
    "for i in range(npl):\n",
    "    for j in range(nvar):\n",
    "        ax = ax_[j]\n",
    "        tracex = trace_matrix[i][j]\n",
    "        ax.scatter(i+1, np.median(tracex),c='black')\n",
    "        ax.plot((i+1,i+1), np.quantile(tracex,(0.25,.75)),c='black',linewidth=3)\n",
    "        ax.plot((i+1,i+1), np.quantile(tracex,(0.05,.95)),c='black',linewidth=.7)\n",
    "\n",
    "for j in range(nvar-4):\n",
    "    ax = ax_[j]\n",
    "    ax.set_xlabel('Prior σ')\n",
    "    ax.set_ylabel(varset[j])\n",
    "    ax.set_xticks(range(1,9))\n",
    "for j in range(nvar-4,nvar):\n",
    "    ax = ax_[j]\n",
    "    ax.set_xlabel('Prior γ')\n",
    "    ax.set_ylabel(varset[j])\n",
    "    ax.set_xticks(range(1,9))\n",
    "\n",
    "ax = ax_[24]\n",
    "ax.scatter(2, np.median(tracex),c='black')\n",
    "ax.plot((2,2), np.quantile(tracex,(0.25,.75)),c='black',linewidth=3)\n",
    "ax.plot((2,2), np.quantile(tracex,(0.05,.95)),c='black',linewidth=.7)\n",
    "ax.set_xlim(1,8)\n",
    "ax.set_yticklabels('')\n",
    "ax.set_xticklabels('')\n",
    "ax.text(2.2,1.,'95% HPD')\n",
    "ax.text(2.5,-1.1,'50% HPD')\n",
    "ax.text(2.5,np.median(tracex)-.4,'Posterior median')\n",
    "\n",
    "plt.tight_layout()\n",
    "plt.savefig('ED_Figure_6.pdf');"
   ]
  },
  {
   "cell_type": "code",
   "execution_count": 52,
   "metadata": {},
   "outputs": [
    {
     "data": {
      "text/plain": [
       "0.5000000000000001"
      ]
     },
     "execution_count": 52,
     "metadata": {},
     "output_type": "execute_result"
    }
   ],
   "source": [
    "np.std(POP)"
   ]
  },
  {
   "cell_type": "code",
   "execution_count": null,
   "metadata": {},
   "outputs": [],
   "source": []
  }
 ],
 "metadata": {
  "kernelspec": {
   "display_name": "Python 3",
   "language": "python",
   "name": "python3"
  },
  "language_info": {
   "codemirror_mode": {
    "name": "ipython",
    "version": 3
   },
   "file_extension": ".py",
   "mimetype": "text/x-python",
   "name": "python",
   "nbconvert_exporter": "python",
   "pygments_lexer": "ipython3",
   "version": "3.7.3"
  }
 },
 "nbformat": 4,
 "nbformat_minor": 2
}
